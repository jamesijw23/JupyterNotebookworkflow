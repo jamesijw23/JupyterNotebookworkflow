{
 "cells": [
  {
   "cell_type": "code",
   "execution_count": 78,
   "metadata": {},
   "outputs": [],
   "source": [
    "##-------------------------------------\n",
    "## Step 0) Load Libraries\n",
    "##-------------------------------------\n",
    "##------------------------------------------------\n",
    "## ~~ Manipulation\n",
    "## Array Manipulation\n",
    "import numpy as np                       \n",
    "## Data Frame Manipulation\n",
    "import pandas as pd \n",
    "## Change Directory in Python\n",
    "import os                              \n",
    "##------------------------------------------------\n",
    "##------------------------------------------------\n",
    "## ~~ Visualization\n",
    "## Plot\n",
    "#from matplotlib.pylab as plt  \n",
    "from matplotlib.pyplot import *        \n",
    "%matplotlib inline\n",
    "rcParams['figure.figsize'] = 10, 6\n",
    "##------------------------------------------------\n",
    "##------------------------------------------------\n",
    "## ~~ Date Manipulation\n",
    "from datetime import datetime\n",
    "##------------------------------------------------\n",
    "\n",
    "##------------------------------------------------\n",
    "## ~~ Miscellaneous\n",
    "## Generate randdom numbers\n",
    "import random\n",
    "##------------------------------------------------"
   ]
  },
  {
   "cell_type": "code",
   "execution_count": 85,
   "metadata": {},
   "outputs": [],
   "source": [
    "##-------------------------------------\n",
    "## Step 1)  Relevant Functions\n",
    "##-------------------------------------\n",
    "def new_weight_calculate(x_after, x_before,window_number,after_percent):\n",
    "     \"\"\"\n",
    "    Function Name: new_weight_calculate\n",
    "    Input: future list, past list, windom size, future percent\n",
    "    Output: new weight\n",
    "    Purpose: calculate new weight based on the future, the past and a random effect\n",
    "    \"\"\"\n",
    "    ## Determine the percent that the before weight will impact new value\n",
    "    before_percent = 1 - after_percent\n",
    "    \n",
    "    ## Remove 'nan' from list\n",
    "    x_after_no_nan = [x for x in x_after  if  str(x) != 'nan']\n",
    "    x_before_no_nan = [x for x in x_before  if  str(x) != 'nan']\n",
    "\n",
    "    ## Create Appropriate window**\n",
    "    x_after_na_window = x_after_no_nan[:window_number]\n",
    "    x_before_na_window = x_before_no_nan[-window_number:]\n",
    "\n",
    "    ## Calculate before effect\n",
    "    before_effect = before_percent*np.mean(x_before_na_window)\n",
    "\n",
    "    ## Calculate after effect\n",
    "    after_effect = after_percent*np.mean(x_after_na_window)\n",
    "\n",
    "    ## Calculate Random effect\n",
    "    random_effect = random.uniform(-0.5, 0.5)\n",
    "    \n",
    "    ## Determine the new weight based on after, before and random\n",
    "    new_weight = after_effect + before_effect + random_effect\n",
    "    return(new_weight)\n",
    "\n",
    "def impute_missing(x,window_number,after_percent):\n",
    "    \"\"\"\n",
    "    Function Name: impute_missing\n",
    "    Input: list, size of window, percent of future\n",
    "    Output: list with imputed values\n",
    "    Purpose: Ability to impute based on future and past values\n",
    "    \"\"\"\n",
    "    for i in range(len(x)):\n",
    "        ## Determine if value is nan\n",
    "        if np.isnan(x[i]) == True:\n",
    "            ## Look before nan value\n",
    "            x_before = x[:i]\n",
    "            ## Look after nan value\n",
    "            x_after = x[(i+1):]\n",
    "            ## Use before and after nan value to determine \n",
    "            x[i] = new_weight_calculate(x_after,\n",
    "                                        x_before,\n",
    "                                        window_number,\n",
    "                                        after_percent)\n",
    "    return(x)\n",
    "\n"
   ]
  },
  {
   "cell_type": "code",
   "execution_count": 24,
   "metadata": {},
   "outputs": [],
   "source": [
    "##-------------------------------------\n",
    "## Step 2) Load Data\n",
    "##-------------------------------------\n",
    "default_path = 'C:/Users/james/OneDrive/Documents/Important_Files/Fitness Analysis'\n",
    "os.chdir(default_path)\n",
    "weight = pd.read_csv('weight_eman.csv',parse_dates=['Date'])\n"
   ]
  },
  {
   "cell_type": "code",
   "execution_count": 25,
   "metadata": {},
   "outputs": [],
   "source": [
    "##-------------------------------------\n",
    "## Step 2) Preliminary Curation of Data\n",
    "##-------------------------------------\n",
    "## Change Timestamp into datetime\n",
    "weight['Date'] = pd.to_datetime(weight['Date'], \n",
    "                                infer_datetime_format=True)\n",
    "## Turn 'Date' into index\n",
    "weight = weight.set_index(['Date'])\n",
    "## Impute Missing weight Values\n",
    "weight['Weight_Imputed'] = impute_missing(weight_list,10,0.75)"
   ]
  },
  {
   "cell_type": "code",
   "execution_count": 26,
   "metadata": {},
   "outputs": [
    {
     "data": {
      "text/plain": [
       "Text(0,0.5,'Weight (lbs)')"
      ]
     },
     "execution_count": 26,
     "metadata": {},
     "output_type": "execute_result"
    },
    {
     "data": {
      "image/png": "[encoded data removed]",
      "text/plain": [
       "<matplotlib.figure.Figure at 0x1e29a2c7c50>"
      ]
     },
     "metadata": {},
     "output_type": "display_data"
    }
   ],
   "source": [
    "ax =  weight.plot(title = 'Weight Over Time')\n",
    "ax.set_xlabel('Time (days)')\n",
    "ax.set_ylabel('Weight (lbs)')\n"
   ]
  }
 ],
 "metadata": {
  "kernelspec": {
   "display_name": "Python 3",
   "language": "python",
   "name": "python3"
  },
  "language_info": {
   "codemirror_mode": {
    "name": "ipython",
    "version": 3
   },
   "file_extension": ".py",
   "mimetype": "text/x-python",
   "name": "python",
   "nbconvert_exporter": "python",
   "pygments_lexer": "ipython3",
   "version": "3.6.4"
  }
 },
 "nbformat": 4,
 "nbformat_minor": 2
}
